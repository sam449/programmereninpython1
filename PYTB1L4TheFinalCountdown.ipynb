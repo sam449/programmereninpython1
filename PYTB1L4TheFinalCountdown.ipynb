{
 "cells": [
  {
   "cell_type": "code",
   "execution_count": 9,
   "metadata": {},
   "outputs": [
    {
     "ename": "SyntaxError",
     "evalue": "(unicode error) 'unicodeescape' codec can't decode bytes in position 2-3: truncated \\UXXXXXXXX escape (<ipython-input-9-a262e3c2330e>, line 6)",
     "output_type": "error",
     "traceback": [
      "\u001b[1;36m  File \u001b[1;32m\"<ipython-input-9-a262e3c2330e>\"\u001b[1;36m, line \u001b[1;32m6\u001b[0m\n\u001b[1;33m    playsound('C:\\Users\\sambd\\Documents\\eerste jaar Mediacollege\\Mediacollege2\\programmereninpython\\MartinKok.mp3')\u001b[0m\n\u001b[1;37m              ^\u001b[0m\n\u001b[1;31mSyntaxError\u001b[0m\u001b[1;31m:\u001b[0m (unicode error) 'unicodeescape' codec can't decode bytes in position 2-3: truncated \\UXXXXXXXX escape\n"
     ]
    }
   ],
   "source": [
    "from playsound import playsound\n",
    "\n",
    "for i in range(1000, -1, -1):\n",
    "    print(i)\n",
    "    if i in range(-1):\n",
    "        playsound('C:\\Users\\sambd\\Documents\\eerste jaar Mediacollege\\Mediacollege2\\programmereninpython\\MartinKok.mp3')\n",
    "        print(\"HAPPY NEW DAY\")"
   ]
  },
  {
   "cell_type": "code",
   "execution_count": null,
   "metadata": {},
   "outputs": [],
   "source": []
  }
 ],
 "metadata": {
  "kernelspec": {
   "display_name": "Python 3",
   "language": "python",
   "name": "python3"
  },
  "language_info": {
   "codemirror_mode": {
    "name": "ipython",
    "version": 3
   },
   "file_extension": ".py",
   "mimetype": "text/x-python",
   "name": "python",
   "nbconvert_exporter": "python",
   "pygments_lexer": "ipython3",
   "version": "3.8.5"
  }
 },
 "nbformat": 4,
 "nbformat_minor": 4
}
