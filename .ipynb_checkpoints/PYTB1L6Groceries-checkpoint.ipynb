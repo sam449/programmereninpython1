{
 "cells": [
  {
   "cell_type": "code",
   "execution_count": 1,
   "metadata": {},
   "outputs": [
    {
     "name": "stdout",
     "output_type": "stream",
     "text": [
      "brood Klaar\n",
      "melk Klaar\n",
      "pita Klaar\n",
      "frisdrank extra\n"
     ]
    }
   ],
   "source": [
    "Boodschappelijst= [\"brood\", \"melk\", \"pita\"]\n",
    "Winkelmand=[\"brood\", \"melk\", \"pita\", \"frisdrank\"]\n",
    "\n",
    "for x in Winkelmand:\n",
    "    if x in Boodschappelijst:\n",
    "        print(x + \" Klaar\")\n",
    "    else: \n",
    "        print(x + \" extra\")\n"
   ]
  },
  {
   "cell_type": "code",
   "execution_count": null,
   "metadata": {},
   "outputs": [],
   "source": []
  }
 ],
 "metadata": {
  "kernelspec": {
   "display_name": "Python 3",
   "language": "python",
   "name": "python3"
  },
  "language_info": {
   "codemirror_mode": {
    "name": "ipython",
    "version": 3
   },
   "file_extension": ".py",
   "mimetype": "text/x-python",
   "name": "python",
   "nbconvert_exporter": "python",
   "pygments_lexer": "ipython3",
   "version": "3.8.5"
  }
 },
 "nbformat": 4,
 "nbformat_minor": 4
}
