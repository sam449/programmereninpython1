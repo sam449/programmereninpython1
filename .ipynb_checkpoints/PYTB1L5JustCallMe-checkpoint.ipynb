{
 "cells": [
  {
   "cell_type": "code",
   "execution_count": 4,
   "metadata": {},
   "outputs": [
    {
     "name": "stdout",
     "output_type": "stream",
     "text": [
      "&: Goedendag\n",
      "&: Hoeft u alles gevonden?\n",
      "#: -f\n",
      "&:Hoe wilt u betalen, pinnen of contant\n",
      "#: graagC:\\Users\\sambd\\AppData\\Roaming\\jupyter\\runtime\\kernel-ba07ee5d-07ae-4194-8141-9c80007693c2.json\n",
      "&: fijne dag nog\n"
     ]
    }
   ],
   "source": [
    "  \n",
    "import sys\n",
    "import time\n",
    "\n",
    "def Kassa(begroete, betaling):\n",
    "    print(\"&: Goedendag\")\n",
    "    time.sleep(1)\n",
    "    print(\"&: Hoeft u alles gevonden?\")\n",
    "    time.sleep(1)\n",
    "    print(\"#: \" + begroete)\n",
    "    time.sleep(1)\n",
    "    print(\"&:\" + \"Hoe wilt u betalen, pinnen of contant\")\n",
    "    time.sleep(1)\n",
    "    print(\"#: graag\" + betaling )\n",
    "    time.sleep(1)\n",
    "    print(\"&: fijne dag nog\")\n",
    "\n",
    "Kassa(sys.argv[1], sys.argv[2])"
   ]
  }
 ],
 "metadata": {
  "kernelspec": {
   "display_name": "Python 3",
   "language": "python",
   "name": "python3"
  },
  "language_info": {
   "codemirror_mode": {
    "name": "ipython",
    "version": 3
   },
   "file_extension": ".py",
   "mimetype": "text/x-python",
   "name": "python",
   "nbconvert_exporter": "python",
   "pygments_lexer": "ipython3",
   "version": "3.8.5"
  }
 },
 "nbformat": 4,
 "nbformat_minor": 4
}
