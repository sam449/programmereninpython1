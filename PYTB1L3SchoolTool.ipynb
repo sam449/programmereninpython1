{
 "cells": [
  {
   "cell_type": "code",
   "execution_count": 90,
   "metadata": {},
   "outputs": [],
   "source": [
    "weekdag=(\"maandag\", \"dinsdag\", \"woensdag\", \"donderdag\", \"vrijdag\")\n",
    "vrijedagen=(\"zaterdag\", \"zondag\")\n",
    "A=[\"maandag\", \"dinsdag\", \"woensdag\", \"donderdag\", \"vrijdag\"]\n",
    "B=[\"zaterdag\", \"zondag\"]"
   ]
  },
  {
   "cell_type": "code",
   "execution_count": 91,
   "metadata": {},
   "outputs": [],
   "source": [
    "def antwoordA():\n",
    "    print('Schooldag')"
   ]
  },
  {
   "cell_type": "code",
   "execution_count": 92,
   "metadata": {},
   "outputs": [],
   "source": [
    "def antwoordB():\n",
    "    print('Vrijedag')"
   ]
  },
  {
   "cell_type": "code",
   "execution_count": 93,
   "metadata": {},
   "outputs": [],
   "source": [
    " def dagen(): #functie\n",
    "    print(\"Op welke dagen ben jij vrij van school?\")\n",
    "    A=[\"maandag\", \"dinsdag\", \"woensdag\", \"donderdag\", \"vrijdag\"]\n",
    "    B=[\"zaterdag\", \"zondag\"]\n",
    "    print( A + B)\n",
    "    antwoordD = input()\n",
    "    if antwoordD in A:          \n",
    "        antwoordA()\n",
    "    elif antwoordD in B:\n",
    "        antwoordB()"
   ]
  },
  {
   "cell_type": "code",
   "execution_count": 94,
   "metadata": {},
   "outputs": [
    {
     "name": "stdout",
     "output_type": "stream",
     "text": [
      "Op welke dagen ben jij vrij van school?\n",
      "['maandag', 'dinsdag', 'woensdag', 'donderdag', 'vrijdag', 'zaterdag', 'zondag']\n",
      "zaterdag\n",
      "Vrijedag\n"
     ]
    }
   ],
   "source": [
    "dagen()"
   ]
  },
  {
   "cell_type": "code",
   "execution_count": null,
   "metadata": {},
   "outputs": [],
   "source": []
  },
  {
   "cell_type": "code",
   "execution_count": null,
   "metadata": {},
   "outputs": [],
   "source": []
  }
 ],
 "metadata": {
  "kernelspec": {
   "display_name": "Python 3",
   "language": "python",
   "name": "python3"
  },
  "language_info": {
   "codemirror_mode": {
    "name": "ipython",
    "version": 3
   },
   "file_extension": ".py",
   "mimetype": "text/x-python",
   "name": "python",
   "nbconvert_exporter": "python",
   "pygments_lexer": "ipython3",
   "version": "3.8.5"
  }
 },
 "nbformat": 4,
 "nbformat_minor": 4
}
