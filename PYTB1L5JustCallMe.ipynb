{
 "cells": [
  {
   "cell_type": "code",
   "execution_count": 7,
   "metadata": {},
   "outputs": [
    {
     "name": "stdout",
     "output_type": "stream",
     "text": [
      "&: Goedendag\n",
      "&: Hoeft u alles gevonden?\n",
      "#: goedendag\n",
      "&:Hoe wilt u betalen, pinnen of contant\n",
      "#: graag pinnen\n",
      "&: fijne dag nog\n"
     ]
    }
   ],
   "source": [
    "  \n",
    "import sys\n",
    "import time\n",
    "\n",
    "\n",
    "\n",
    "def Kassa(begroete, betaling):\n",
    "    print(\"&: Goedendag\")\n",
    "    time.sleep(1)\n",
    "    print(\"&: Hoeft u alles gevonden?\")\n",
    "    time.sleep(1)\n",
    "    print(\"#: \" + \"goedendag\")\n",
    "    time.sleep(1)\n",
    "    print(\"&:\" + \"Hoe wilt u betalen, pinnen of contant\")\n",
    "    time.sleep(1)\n",
    "    print(\"#: graag\" + \" pinnen\")\n",
    "    time.sleep(1)\n",
    "    print(\"&: fijne dag nog\")\n",
    "\n",
    "Kassa(sys.argv[1], sys.argv[2])"
   ]
  },
  {
   "cell_type": "code",
   "execution_count": null,
   "metadata": {},
   "outputs": [],
   "source": []
  }
 ],
 "metadata": {
  "kernelspec": {
   "display_name": "Python 3",
   "language": "python",
   "name": "python3"
  },
  "language_info": {
   "codemirror_mode": {
    "name": "ipython",
    "version": 3
   },
   "file_extension": ".py",
   "mimetype": "text/x-python",
   "name": "python",
   "nbconvert_exporter": "python",
   "pygments_lexer": "ipython3",
   "version": "3.8.5"
  }
 },
 "nbformat": 4,
 "nbformat_minor": 4
}
